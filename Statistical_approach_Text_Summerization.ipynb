{
 "cells": [
  {
   "cell_type": "code",
   "execution_count": 3,
   "metadata": {},
   "outputs": [],
   "source": [
    "import pandas as pd\n",
    "import numpy as np\n",
    "import re\n",
    "import nltk\n",
    "from nltk.tokenize import sent_tokenize, word_tokenize\n",
    "from nltk.corpus import stopwords\n",
    "import heapq\n"
   ]
  },
  {
   "cell_type": "code",
   "execution_count": 5,
   "metadata": {},
   "outputs": [
    {
     "name": "stdout",
     "output_type": "stream",
     "text": [
      "Empty DataFrame\n",
      "Columns: [This report deals with my experiences and knowledge’s that I have earned through the internship program. The company profile of Streams Tech and its culture are also briefly discussed here.I have presented different kinds of information in this report which I gathered during internship period and collected from any written document such as Internet or from another person. Most of the information is collected from web sites,  articles,  Streams Tech employees and some journals. Information included in this report are classified into two categories,  primary data source and secondary date source.How a team works and the process of working as a team along with my role,  being a part of successful team,  experiences within a team are also summarized in this report. How I have adapted myself with the company culture and technologies is also mentioned. Especially through this report I try to reflect on my project involvements and my experience of working in real-life projects. The report concludes by elaborating my technical and professional growth after experiencing the internship program[78].]\n",
      "Index: []\n"
     ]
    }
   ],
   "source": [
    "#read_text from file\n",
    "data = pd.read_csv(\"input.txt\",encoding = \"UTF-8\")\n",
    "print(data)"
   ]
  },
  {
   "cell_type": "code",
   "execution_count": 6,
   "metadata": {},
   "outputs": [
    {
     "name": "stdout",
     "output_type": "stream",
     "text": [
      "This report deals with my experiences and knowledge’s that I have earned through the internship program. The company profile of Streams Tech and its culture are also briefly discussed here.I have presented different kinds of information in this report which I gathered during internship period and collected from any written document such as Internet or from another person. Most of the information is collected from web sites articles Streams Tech employees and some journals. Information included in this report are classified into two categories primary data source and secondary date source.How a team works and the process of working as a team along with my role being a part of successful team experiences within a team are also summarized in this report. How I have adapted myself with the company culture and technologies is also mentioned. Especially through this report I try to reflect on my project involvements and my experience of working in real-life projects. The report concludes by elaborating my technical and professional growth after experiencing the internship program[78].\n"
     ]
    }
   ],
   "source": [
    "#text to string\n",
    "sentence = \"\".join(line.rstrip() for line in data)\n",
    "print(sentence)"
   ]
  },
  {
   "cell_type": "code",
   "execution_count": 7,
   "metadata": {},
   "outputs": [
    {
     "name": "stdout",
     "output_type": "stream",
     "text": [
      "This report deals with my experiences and knowledge s that I have earned through the internship program The company profile of Streams Tech and its culture are also briefly discussed here I have presented different kinds of information in this report which I gathered during internship period and collected from any written document such as Internet or from another person Most of the information is collected from web sites articles Streams Tech employees and some journals Information included in this report are classified into two categories primary data source and secondary date source How a team works and the process of working as a team along with my role being a part of successful team experiences within a team are also summarized in this report How I have adapted myself with the company culture and technologies is also mentioned Especially through this report I try to reflect on my project involvements and my experience of working in real life projects The report concludes by elaborating my technical and professional growth after experiencing the internship program \n"
     ]
    }
   ],
   "source": [
    "#clean dta\n",
    "data_clean = re.sub(r'\\[[0-9]*\\]',' ',sentence)\n",
    "data_cleaned = re.sub(r'\\s+',' ',data_clean)\n",
    "sentence_token = nltk.sent_tokenize(data_cleaned)\n",
    "\n",
    "data_cleaned = re.sub(r'[^a-zA-Z]',' ',data_cleaned)\n",
    "data_cleaned = re.sub(r'\\s+',' ',data_cleaned)\n",
    "\n",
    "print(data_cleaned)"
   ]
  },
  {
   "cell_type": "code",
   "execution_count": 8,
   "metadata": {},
   "outputs": [
    {
     "name": "stdout",
     "output_type": "stream",
     "text": [
      "['This', 'report', 'deals', 'with', 'my', 'experiences', 'and', 'knowledge', 's', 'that', 'I', 'have', 'earned', 'through', 'the', 'internship', 'program', 'The', 'company', 'profile', 'of', 'Streams', 'Tech', 'and', 'its', 'culture', 'are', 'also', 'briefly', 'discussed', 'here', 'I', 'have', 'presented', 'different', 'kinds', 'of', 'information', 'in', 'this', 'report', 'which', 'I', 'gathered', 'during', 'internship', 'period', 'and', 'collected', 'from', 'any', 'written', 'document', 'such', 'as', 'Internet', 'or', 'from', 'another', 'person', 'Most', 'of', 'the', 'information', 'is', 'collected', 'from', 'web', 'sites', 'articles', 'Streams', 'Tech', 'employees', 'and', 'some', 'journals', 'Information', 'included', 'in', 'this', 'report', 'are', 'classified', 'into', 'two', 'categories', 'primary', 'data', 'source', 'and', 'secondary', 'date', 'source', 'How', 'a', 'team', 'works', 'and', 'the', 'process', 'of', 'working', 'as', 'a', 'team', 'along', 'with', 'my', 'role', 'being', 'a', 'part', 'of', 'successful', 'team', 'experiences', 'within', 'a', 'team', 'are', 'also', 'summarized', 'in', 'this', 'report', 'How', 'I', 'have', 'adapted', 'myself', 'with', 'the', 'company', 'culture', 'and', 'technologies', 'is', 'also', 'mentioned', 'Especially', 'through', 'this', 'report', 'I', 'try', 'to', 'reflect', 'on', 'my', 'project', 'involvements', 'and', 'my', 'experience', 'of', 'working', 'in', 'real', 'life', 'projects', 'The', 'report', 'concludes', 'by', 'elaborating', 'my', 'technical', 'and', 'professional', 'growth', 'after', 'experiencing', 'the', 'internship', 'program']\n"
     ]
    }
   ],
   "source": [
    "#Tokenization\n",
    "word_data = nltk.word_tokenize(data_cleaned)\n",
    "\n",
    "\n",
    "print(word_data)\n"
   ]
  },
  {
   "cell_type": "code",
   "execution_count": 9,
   "metadata": {},
   "outputs": [],
   "source": [
    "#stop words remobal\n",
    "stop_words = set(stopwords.words('english'))\n"
   ]
  },
  {
   "cell_type": "code",
   "execution_count": 10,
   "metadata": {},
   "outputs": [
    {
     "name": "stdout",
     "output_type": "stream",
     "text": [
      "{'This': 1, 'report': 6, 'deals': 1, 'experiences': 2, 'knowledge': 1, 'I': 5, 'earned': 1, 'internship': 3, 'program': 2, 'The': 2, 'company': 2, 'profile': 1, 'Streams': 2, 'Tech': 2, 'culture': 2, 'also': 3, 'briefly': 1, 'discussed': 1, 'presented': 1, 'different': 1, 'kinds': 1, 'information': 2, 'gathered': 1, 'period': 1, 'collected': 2, 'written': 1, 'document': 1, 'Internet': 1, 'another': 1, 'person': 1, 'Most': 1, 'web': 1, 'sites': 1, 'articles': 1, 'employees': 1, 'journals': 1, 'Information': 1, 'included': 1, 'classified': 1, 'two': 1, 'categories': 1, 'primary': 1, 'data': 1, 'source': 2, 'secondary': 1, 'date': 1, 'How': 2, 'team': 4, 'works': 1, 'process': 1, 'working': 2, 'along': 1, 'role': 1, 'part': 1, 'successful': 1, 'within': 1, 'summarized': 1, 'adapted': 1, 'technologies': 1, 'mentioned': 1, 'Especially': 1, 'try': 1, 'reflect': 1, 'project': 1, 'involvements': 1, 'experience': 1, 'real': 1, 'life': 1, 'projects': 1, 'concludes': 1, 'elaborating': 1, 'technical': 1, 'professional': 1, 'growth': 1, 'experiencing': 1}\n"
     ]
    }
   ],
   "source": [
    "#word frwquency count\n",
    "word_frequency = {}\n",
    "for w in word_data:\n",
    "    if w not in stop_words:\n",
    "        if w not in word_frequency.keys():\n",
    "            word_frequency[w] = 1\n",
    "        else:\n",
    "            word_frequency[w] += 1\n",
    "print(word_frequency)\n",
    "\n",
    "        "
   ]
  },
  {
   "cell_type": "code",
   "execution_count": 11,
   "metadata": {},
   "outputs": [
    {
     "name": "stdout",
     "output_type": "stream",
     "text": [
      "{'This': 0.16666666666666666, 'report': 1.0, 'deals': 0.16666666666666666, 'experiences': 0.3333333333333333, 'knowledge': 0.16666666666666666, 'I': 0.8333333333333334, 'earned': 0.16666666666666666, 'internship': 0.5, 'program': 0.3333333333333333, 'The': 0.3333333333333333, 'company': 0.3333333333333333, 'profile': 0.16666666666666666, 'Streams': 0.3333333333333333, 'Tech': 0.3333333333333333, 'culture': 0.3333333333333333, 'also': 0.5, 'briefly': 0.16666666666666666, 'discussed': 0.16666666666666666, 'presented': 0.16666666666666666, 'different': 0.16666666666666666, 'kinds': 0.16666666666666666, 'information': 0.3333333333333333, 'gathered': 0.16666666666666666, 'period': 0.16666666666666666, 'collected': 0.3333333333333333, 'written': 0.16666666666666666, 'document': 0.16666666666666666, 'Internet': 0.16666666666666666, 'another': 0.16666666666666666, 'person': 0.16666666666666666, 'Most': 0.16666666666666666, 'web': 0.16666666666666666, 'sites': 0.16666666666666666, 'articles': 0.16666666666666666, 'employees': 0.16666666666666666, 'journals': 0.16666666666666666, 'Information': 0.16666666666666666, 'included': 0.16666666666666666, 'classified': 0.16666666666666666, 'two': 0.16666666666666666, 'categories': 0.16666666666666666, 'primary': 0.16666666666666666, 'data': 0.16666666666666666, 'source': 0.3333333333333333, 'secondary': 0.16666666666666666, 'date': 0.16666666666666666, 'How': 0.3333333333333333, 'team': 0.6666666666666666, 'works': 0.16666666666666666, 'process': 0.16666666666666666, 'working': 0.3333333333333333, 'along': 0.16666666666666666, 'role': 0.16666666666666666, 'part': 0.16666666666666666, 'successful': 0.16666666666666666, 'within': 0.16666666666666666, 'summarized': 0.16666666666666666, 'adapted': 0.16666666666666666, 'technologies': 0.16666666666666666, 'mentioned': 0.16666666666666666, 'Especially': 0.16666666666666666, 'try': 0.16666666666666666, 'reflect': 0.16666666666666666, 'project': 0.16666666666666666, 'involvements': 0.16666666666666666, 'experience': 0.16666666666666666, 'real': 0.16666666666666666, 'life': 0.16666666666666666, 'projects': 0.16666666666666666, 'concludes': 0.16666666666666666, 'elaborating': 0.16666666666666666, 'technical': 0.16666666666666666, 'professional': 0.16666666666666666, 'growth': 0.16666666666666666, 'experiencing': 0.16666666666666666}\n"
     ]
    }
   ],
   "source": [
    "# Weighted frequency count\n",
    "\n",
    "max_freq_word =max(word_frequency.values())\n",
    "#print(max_freq_word)\n",
    "for word in word_frequency.keys():\n",
    "    word_frequency[word] = (word_frequency[word]/max_freq_word)\n",
    "print(word_frequency)"
   ]
  },
  {
   "cell_type": "code",
   "execution_count": 14,
   "metadata": {},
   "outputs": [
    {
     "name": "stdout",
     "output_type": "stream",
     "text": [
      "This report deals with my experiences and knowledge’s that I have earned through the internship program.\n",
      "Most of the information is collected from web sites articles Streams Tech employees and some journals.\n",
      "How I have adapted myself with the company culture and technologies is also mentioned.\n",
      "Especially through this report I try to reflect on my project involvements and my experience of working in real-life projects.\n",
      "The report concludes by elaborating my technical and professional growth after experiencing the internship program .\n",
      "{'This report deals with my experiences and knowledge’s that I have earned through the internship program.': 2.666666666666667, 'Most of the information is collected from web sites articles Streams Tech employees and some journals.': 1.5, 'How I have adapted myself with the company culture and technologies is also mentioned.': 1.6666666666666667, 'Especially through this report I try to reflect on my project involvements and my experience of working in real-life projects.': 2.3333333333333335, 'The report concludes by elaborating my technical and professional growth after experiencing the internship program .': 2.833333333333334}\n"
     ]
    }
   ],
   "source": [
    "# sentence score calculcalation\n",
    "\n",
    "sentence_score = {}\n",
    "\n",
    "for s in sentence_token:\n",
    "    for word in nltk.word_tokenize(s.lower()):\n",
    "        if word in word_frequency.keys():\n",
    "            if (len(s.split(' '))) < 30:\n",
    "                if s not in sentence_score.keys():\n",
    "                    sentence_score[s] = word_frequency[word]\n",
    "                    print(s)\n",
    "\n",
    "                else:\n",
    "                    sentence_score[s] += word_frequency[word]\n",
    "print(sentence_score)\n",
    "            \n",
    "#sumValues = 0\n",
    "#for sentence in sentence_score: \n",
    " #   sumValues += sentence_score[sentence] \n",
    "#print(sumValues)\n",
    "   \n"
   ]
  },
  {
   "cell_type": "code",
   "execution_count": null,
   "metadata": {},
   "outputs": [],
   "source": [
    "#average = int(sumValues / len(sentence_score)) \n",
    "   \n",
    "# Storing sentences into our summary. \n",
    "#summary = '' \n",
    "#for sentence in sentence_token: \n",
    "#    if (sentence in sentence_score) and (sentence_score[sentence] > (1.2 * average)): \n",
    "  #      summary += \" \" + sentence \n",
    "#print(summary) "
   ]
  },
  {
   "cell_type": "code",
   "execution_count": 17,
   "metadata": {},
   "outputs": [
    {
     "name": "stdout",
     "output_type": "stream",
     "text": [
      "['The report concludes by elaborating my technical and professional growth after experiencing the internship program .', 'This report deals with my experiences and knowledge’s that I have earned through the internship program.', 'Especially through this report I try to reflect on my project involvements and my experience of working in real-life projects.', 'How I have adapted myself with the company culture and technologies is also mentioned.', 'Most of the information is collected from web sites articles Streams Tech employees and some journals.']\n"
     ]
    }
   ],
   "source": [
    "summ = heapq.nlargest(10,sentence_score,key=sentence_score.get)\n",
    "print(summ)"
   ]
  },
  {
   "cell_type": "code",
   "execution_count": null,
   "metadata": {},
   "outputs": [],
   "source": []
  }
 ],
 "metadata": {
  "kernelspec": {
   "display_name": "Python 3",
   "language": "python",
   "name": "python3"
  },
  "language_info": {
   "codemirror_mode": {
    "name": "ipython",
    "version": 3
   },
   "file_extension": ".py",
   "mimetype": "text/x-python",
   "name": "python",
   "nbconvert_exporter": "python",
   "pygments_lexer": "ipython3",
   "version": "3.7.6"
  }
 },
 "nbformat": 4,
 "nbformat_minor": 4
}
