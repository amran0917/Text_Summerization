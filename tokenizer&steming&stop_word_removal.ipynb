{
 "cells": [
  {
   "cell_type": "code",
   "execution_count": 1,
   "metadata": {},
   "outputs": [
    {
     "name": "stdout",
     "output_type": "stream",
     "text": [
      "Bi3smillalhir rahmainrlrahim\n"
     ]
    }
   ],
   "source": [
    "print('Bi3smillalhir rahmainrlrahim')"
   ]
  },
  {
   "cell_type": "code",
   "execution_count": 2,
   "metadata": {},
   "outputs": [
    {
     "name": "stderr",
     "output_type": "stream",
     "text": [
      "[nltk_data] Downloading collection 'all'\n",
      "[nltk_data]    | \n",
      "[nltk_data]    | Downloading package abc to\n",
      "[nltk_data]    |     C:\\Users\\streamstech\\AppData\\Roaming\\nltk_data...\n",
      "[nltk_data]    |   Package abc is already up-to-date!\n",
      "[nltk_data]    | Downloading package alpino to\n",
      "[nltk_data]    |     C:\\Users\\streamstech\\AppData\\Roaming\\nltk_data...\n",
      "[nltk_data]    |   Package alpino is already up-to-date!\n",
      "[nltk_data]    | Downloading package biocreative_ppi to\n",
      "[nltk_data]    |     C:\\Users\\streamstech\\AppData\\Roaming\\nltk_data...\n",
      "[nltk_data]    |   Package biocreative_ppi is already up-to-date!\n",
      "[nltk_data]    | Downloading package brown to\n",
      "[nltk_data]    |     C:\\Users\\streamstech\\AppData\\Roaming\\nltk_data...\n",
      "[nltk_data]    |   Package brown is already up-to-date!\n",
      "[nltk_data]    | Downloading package brown_tei to\n",
      "[nltk_data]    |     C:\\Users\\streamstech\\AppData\\Roaming\\nltk_data...\n",
      "[nltk_data]    |   Package brown_tei is already up-to-date!\n",
      "[nltk_data]    | Downloading package cess_cat to\n",
      "[nltk_data]    |     C:\\Users\\streamstech\\AppData\\Roaming\\nltk_data...\n",
      "[nltk_data]    |   Package cess_cat is already up-to-date!\n",
      "[nltk_data]    | Downloading package cess_esp to\n",
      "[nltk_data]    |     C:\\Users\\streamstech\\AppData\\Roaming\\nltk_data...\n",
      "[nltk_data]    |   Package cess_esp is already up-to-date!\n",
      "[nltk_data]    | Downloading package chat80 to\n",
      "[nltk_data]    |     C:\\Users\\streamstech\\AppData\\Roaming\\nltk_data...\n",
      "[nltk_data]    |   Package chat80 is already up-to-date!\n",
      "[nltk_data]    | Downloading package city_database to\n",
      "[nltk_data]    |     C:\\Users\\streamstech\\AppData\\Roaming\\nltk_data...\n",
      "[nltk_data]    |   Package city_database is already up-to-date!\n",
      "[nltk_data]    | Downloading package cmudict to\n",
      "[nltk_data]    |     C:\\Users\\streamstech\\AppData\\Roaming\\nltk_data...\n",
      "[nltk_data]    |   Package cmudict is already up-to-date!\n",
      "[nltk_data]    | Downloading package comparative_sentences to\n",
      "[nltk_data]    |     C:\\Users\\streamstech\\AppData\\Roaming\\nltk_data...\n",
      "[nltk_data]    |   Package comparative_sentences is already up-to-\n",
      "[nltk_data]    |       date!\n",
      "[nltk_data]    | Downloading package comtrans to\n",
      "[nltk_data]    |     C:\\Users\\streamstech\\AppData\\Roaming\\nltk_data...\n",
      "[nltk_data]    |   Package comtrans is already up-to-date!\n",
      "[nltk_data]    | Downloading package conll2000 to\n",
      "[nltk_data]    |     C:\\Users\\streamstech\\AppData\\Roaming\\nltk_data...\n",
      "[nltk_data]    |   Package conll2000 is already up-to-date!\n",
      "[nltk_data]    | Downloading package conll2002 to\n",
      "[nltk_data]    |     C:\\Users\\streamstech\\AppData\\Roaming\\nltk_data...\n",
      "[nltk_data]    |   Package conll2002 is already up-to-date!\n",
      "[nltk_data]    | Downloading package conll2007 to\n",
      "[nltk_data]    |     C:\\Users\\streamstech\\AppData\\Roaming\\nltk_data...\n",
      "[nltk_data]    |   Package conll2007 is already up-to-date!\n",
      "[nltk_data]    | Downloading package crubadan to\n",
      "[nltk_data]    |     C:\\Users\\streamstech\\AppData\\Roaming\\nltk_data...\n",
      "[nltk_data]    |   Package crubadan is already up-to-date!\n",
      "[nltk_data]    | Downloading package dependency_treebank to\n",
      "[nltk_data]    |     C:\\Users\\streamstech\\AppData\\Roaming\\nltk_data...\n",
      "[nltk_data]    |   Package dependency_treebank is already up-to-date!\n",
      "[nltk_data]    | Downloading package dolch to\n",
      "[nltk_data]    |     C:\\Users\\streamstech\\AppData\\Roaming\\nltk_data...\n",
      "[nltk_data]    |   Unzipping corpora\\dolch.zip.\n",
      "[nltk_data]    | Downloading package europarl_raw to\n",
      "[nltk_data]    |     C:\\Users\\streamstech\\AppData\\Roaming\\nltk_data...\n",
      "[nltk_data]    |   Unzipping corpora\\europarl_raw.zip.\n",
      "[nltk_data]    | Downloading package floresta to\n",
      "[nltk_data]    |     C:\\Users\\streamstech\\AppData\\Roaming\\nltk_data...\n",
      "[nltk_data]    |   Unzipping corpora\\floresta.zip.\n",
      "[nltk_data]    | Downloading package framenet_v15 to\n",
      "[nltk_data]    |     C:\\Users\\streamstech\\AppData\\Roaming\\nltk_data...\n",
      "[nltk_data]    |   Unzipping corpora\\framenet_v15.zip.\n",
      "[nltk_data]    | Error with downloaded zip file\n"
     ]
    },
    {
     "data": {
      "text/plain": [
       "False"
      ]
     },
     "execution_count": 2,
     "metadata": {},
     "output_type": "execute_result"
    }
   ],
   "source": [
    "import nltk\n",
    "from nltk.stem import PorterStemmer \n",
    "from nltk.corpus import stopwords\n",
    "nltk.download('all')"
   ]
  },
  {
   "cell_type": "code",
   "execution_count": 4,
   "metadata": {},
   "outputs": [
    {
     "ename": "IndentationError",
     "evalue": "unexpected indent (<ipython-input-4-a866950845db>, line 5)",
     "output_type": "error",
     "traceback": [
      "\u001b[1;36m  File \u001b[1;32m\"<ipython-input-4-a866950845db>\"\u001b[1;36m, line \u001b[1;32m5\u001b[0m\n\u001b[1;33m    str = str.split()\u001b[0m\n\u001b[1;37m    ^\u001b[0m\n\u001b[1;31mIndentationError\u001b[0m\u001b[1;31m:\u001b[0m unexpected indent\n"
     ]
    }
   ],
   "source": [
    "from nltk.tokenize import sent_tokenize, word_tokenize\n",
    "# break the string into list of words \n",
    "str= \"The First sentence is about Python pyth3on. The Second: about Django also pythons. You can about learn Python,Django and Data Ananlysis here. \"\n",
    "\n",
    "\tstr = str.split()\t\t \n",
    "\tstr2 = [] \n",
    "\n",
    "\t# loop till string values present in list str \n",
    "\tfor i in str:\t\t\t \n",
    "\n",
    "\t\t# checking for the duplicacy \n",
    "\t\tif i not in str2: \n",
    "\n",
    "\t\t\t# insert value in str2 \n",
    "\t\t\tstr2.append(i) \n",
    "\t\t\t\n",
    "\tfor i in range(0, len(str2)): \n",
    "\n",
    "\t\t# count the frequency of each word(present \n",
    "\t\t# in str2) in str and print \n",
    "\t\tprint('Frequency of', str2[i], 'is :', str.count(str2[i]))\t\n",
    "        \n",
    "        #token \n",
    "sentence_data = \"The First sentence is about Python pyth3on. The Second: about Django also pythons. You can about learn Python,Django and Data Ananlysis here. \"\n",
    "\n",
    "nltk_tokens = nltk.sent_tokenize(sentence_data)\n",
    "\n",
    "print(nltk_tokens)"
   ]
  },
  {
   "cell_type": "code",
   "execution_count": null,
   "metadata": {},
   "outputs": [],
   "source": [
    "word_data = nltk.word_tokenize(sentence_data)\n",
    "print(word_data)"
   ]
  },
  {
   "cell_type": "code",
   "execution_count": 23,
   "metadata": {},
   "outputs": [
    {
     "name": "stdout",
     "output_type": "stream",
     "text": [
      "The  :  the\n",
      "First  :  first\n",
      "sentence  :  sentenc\n",
      "is  :  is\n",
      "about  :  about\n",
      "Python  :  python\n",
      "pyth3on  :  pyth3on\n",
      ".  :  .\n",
      "The  :  the\n",
      "Second  :  second\n",
      ":  :  :\n",
      "about  :  about\n",
      "Django  :  django\n",
      "also  :  also\n",
      "pythons  :  python\n",
      ".  :  .\n",
      "You  :  you\n",
      "can  :  can\n",
      "about  :  about\n",
      "learn  :  learn\n",
      "Python  :  python\n",
      ",  :  ,\n",
      "Django  :  django\n",
      "and  :  and\n",
      "Data  :  data\n",
      "Ananlysis  :  ananlysi\n",
      "here  :  here\n",
      ".  :  .\n"
     ]
    }
   ],
   "source": [
    "#steemig ffomr word\n",
    "ps = PorterStemmer()\n",
    "for w in word_data: \n",
    "    print(w, \" : \", ps.stem(w)) \n",
    "  "
   ]
  },
  {
   "cell_type": "code",
   "execution_count": 43,
   "metadata": {},
   "outputs": [
    {
     "name": "stderr",
     "output_type": "stream",
     "text": [
      "[nltk_data] Downloading package stopwords to\n",
      "[nltk_data]     C:\\Users\\streamstech\\AppData\\Roaming\\nltk_data...\n",
      "[nltk_data]   Package stopwords is already up-to-date!\n"
     ]
    }
   ],
   "source": [
    "nltk.download('stopwords')\n",
    "stop_words = set(stopwords.words('english'))"
   ]
  },
  {
   "cell_type": "code",
   "execution_count": 45,
   "metadata": {},
   "outputs": [],
   "source": [
    "filtered_sentence = [w for w in word_data if not w in stop_words] \n",
    "filtered_sentence = [] \n"
   ]
  },
  {
   "cell_type": "code",
   "execution_count": 46,
   "metadata": {},
   "outputs": [],
   "source": [
    "for w in word_data:\n",
    "    if w not in stop_words:\n",
    "        filtered_sentence.append(w)"
   ]
  },
  {
   "cell_type": "code",
   "execution_count": 47,
   "metadata": {},
   "outputs": [
    {
     "name": "stdout",
     "output_type": "stream",
     "text": [
      "['The', 'First', 'sentence', 'Python', 'pyth3on', '.', 'The', 'Second', ':', 'Django', 'also', 'pythons', '.', 'You', 'learn', 'Python', ',', 'Django', 'Data', 'Ananlysis', '.']\n"
     ]
    }
   ],
   "source": [
    "print(filtered_sentence)"
   ]
  },
  {
   "cell_type": "code",
   "execution_count": 48,
   "metadata": {},
   "outputs": [
    {
     "name": "stdout",
     "output_type": "stream",
     "text": [
      "Frequency of apple is : 3\n",
      "Frequency of mango is : 3\n",
      "Frequency of orange is : 2\n",
      "Frequency of guava is : 1\n"
     ]
    }
   ],
   "source": [
    "# Python code to find frequency of each word \n",
    "def freq(str): \n",
    "\n",
    "\t# break the string into list of words \n",
    "\tstr = str.split()\t\t \n",
    "\tstr2 = [] \n",
    "\n",
    "\t# loop till string values present in list str \n",
    "\tfor i in str:\t\t\t \n",
    "\n",
    "\t\t# checking for the duplicacy \n",
    "\t\tif i not in str2: \n",
    "\n",
    "\t\t\t# insert value in str2 \n",
    "\t\t\tstr2.append(i) \n",
    "\t\t\t\n",
    "\tfor i in range(0, len(str2)): \n",
    "\n",
    "\t\t# count the frequency of each word(present \n",
    "\t\t# in str2) in str and print \n",
    "\t\tprint('Frequency of', str2[i], 'is :', str.count(str2[i]))\t \n",
    "\n",
    "def main(): \n",
    "\tstr ='apple mango apple orange orange apple guava mango mango'\n",
    "\tfreq(str)\t\t\t\t\t \n",
    "\n",
    "if __name__==\"__main__\": \n",
    "\tmain()\t\t\t # call main function \n"
   ]
  },
  {
   "cell_type": "code",
   "execution_count": null,
   "metadata": {},
   "outputs": [],
   "source": []
  }
 ],
 "metadata": {
  "kernelspec": {
   "display_name": "Python 3",
   "language": "python",
   "name": "python3"
  },
  "language_info": {
   "codemirror_mode": {
    "name": "ipython",
    "version": 3
   },
   "file_extension": ".py",
   "mimetype": "text/x-python",
   "name": "python",
   "nbconvert_exporter": "python",
   "pygments_lexer": "ipython3",
   "version": "3.7.6"
  }
 },
 "nbformat": 4,
 "nbformat_minor": 4
}
